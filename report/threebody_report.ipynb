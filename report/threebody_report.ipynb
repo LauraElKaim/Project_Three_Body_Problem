{
 "cells": [
  {
   "cell_type": "markdown",
   "metadata": {},
   "source": [
    "> Master 1 MIND & Biostatistik - 2021  \n",
    "\n",
    "> Authors:\n",
    "> - Touzani Amine (amine.touzani@etu.umontpellier.fr)  \n",
    "> - Niasse Gueladio (gueladio.niasse@etu.umontpellier.fr)  \n",
    "> - Fattouhy Mohamed (mohamed.fattouhy@etu.umontpellier.fr)  \n",
    "> - El Kaïm Laura (laura.el-kaim@etu.umontpellier.fr) \n",
    "\n",
    "--------------------------------------------------------"
   ]
  },
  {
   "cell_type": "markdown",
   "metadata": {},
   "source": [
    "### Table of Contents\n",
    "\n",
    "* [About Three Body Problem](#About_Three_Body_Problem)\n",
    "* [Mathematical resolutions](#Mathematical_resolutions)\n",
    "    * [Special case: Alpha Centauri A and Alpha Centauri B](#Special_case_EDO)\n",
    "    * [Three body problem - Differential equations](#Three_body_problem_EDO)\n",
    "* [Visualization](#Visualization)\n",
    "    * [Special case: Alpha Centauri A and Alpha Centauri B](#Special_case_vis)\n",
    "    * [Three body problem](#Three_body_problem_vis)\n",
    "* [Synthesis](Synthesis)"
   ]
  },
  {
   "cell_type": "markdown",
   "metadata": {},
   "source": [
    "### About Three Body Problem <a class=\"anchor\" id=\"About_Three_Body_Problem\"></a>\n",
    "\n",
    "`Threebody` is a `Python3` package which allows from a mathematical resolution, to trace the trajectories and the positions according to the time of various bodies around the Sun.  \n",
    "We focus here on the planets Earth and Mars.  \n",
    "Also we want to create some graphics to visualize the positions of the planets in orbit around the sun as a function of time.  "
   ]
  },
  {
   "cell_type": "markdown",
   "metadata": {},
   "source": [
    "### Mathematical resolutions <a class=\"anchor\" id=\"Mathematical_resolutions\"></a>"
   ]
  },
  {
   "cell_type": "markdown",
   "metadata": {},
   "source": [
    "#### Special case: Alpha Centauri A and Alpha Centauri B <a class=\"anchor\" id=\"Special_case_EDO\"></a>"
   ]
  },
  {
   "cell_type": "markdown",
   "metadata": {},
   "source": [
    "#### Three body problem - Differential equations <a class=\"anchor\" id=\"Three_body_problem_EDO\"></a>"
   ]
  },
  {
   "cell_type": "markdown",
   "metadata": {},
   "source": [
    "### Visualization <a class=\"anchor\" id=\"Visualization\"></a>"
   ]
  },
  {
   "cell_type": "markdown",
   "metadata": {},
   "source": [
    "#### Special case: Alpha Centauri A and Alpha Centauri B <a class=\"anchor\" id=\"Special_case_vis\"></a>"
   ]
  },
  {
   "cell_type": "markdown",
   "metadata": {},
   "source": [
    "#### Three body problem<a class=\"anchor\" id=\"Three_body_problem_vis\"></a>"
   ]
  },
  {
   "cell_type": "markdown",
   "metadata": {},
   "source": [
    "### Synthesis <a class=\"anchor\" id=\"Synthesis\"></a>"
   ]
  }
 ],
 "metadata": {
  "kernelspec": {
   "display_name": "Python 3",
   "language": "python",
   "name": "python3"
  },
  "language_info": {
   "codemirror_mode": {
    "name": "ipython",
    "version": 3
   },
   "file_extension": ".py",
   "mimetype": "text/x-python",
   "name": "python",
   "nbconvert_exporter": "python",
   "pygments_lexer": "ipython3",
   "version": "3.8.5"
  },
  "toc": {
   "base_numbering": 1,
   "nav_menu": {},
   "number_sections": true,
   "sideBar": true,
   "skip_h1_title": false,
   "title_cell": "Table of Contents",
   "title_sidebar": "Contents",
   "toc_cell": false,
   "toc_position": {},
   "toc_section_display": true,
   "toc_window_display": false
  }
 },
 "nbformat": 4,
 "nbformat_minor": 4
}
