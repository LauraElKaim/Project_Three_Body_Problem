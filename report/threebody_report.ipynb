{
 "cells": [
  {
   "cell_type": "markdown",
   "metadata": {},
   "source": [
    "> Master 1 MIND & Biostatistik - 2021  \n",
    "\n",
    "> Authors:\n",
    "> - Touzani Amine (amine.touzani@etu.umontpellier.fr)  \n",
    "> - Niasse Gueladio (gueladio.niasse@etu.umontpellier.fr)  \n",
    "> - Fattouhy Mohamed (mohamed.fattouhy@etu.umontpellier.fr)  \n",
    "> - El Kaïm Laura (laura.el-kaim@etu.umontpellier.fr) \n",
    "\n",
    "--------------------------------------------------------"
   ]
  },
  {
   "cell_type": "markdown",
   "metadata": {},
   "source": [
    "### Table of Contents\n",
    "\n",
    "* [About Three Body Problem](#About_Three_Body_Problem)\n",
    "    * [Special case: Orbit Earth and Orbit Mars](#Special_case_intro)\n",
    "    * [Three body problem - More details](#Three_body_problem_details)\n",
    "* [Visualization](#Visualization)\n",
    "    * [Special case: Orbit Earth and Orbit Mars](#Special_case_vis)\n",
    "    * [Three body problem](#Three_body_problem_vis)"
   ]
  },
  {
   "cell_type": "markdown",
   "metadata": {},
   "source": [
    "### About Three Body Problem <a class=\"anchor\" id=\"About_Three_Body_Problem\"></a>\n",
    "\n",
    "`Threebody` is a `Python3` package which allows from a mathematical resolution, to trace the trajectories and the positions according to the time of various bodies around the Sun.  \n",
    "Using this package we can visualize the motion of two or three celestial bodies moving under no other influence than their mutual gravitation. "
   ]
  },
  {
   "source": [
    "#### Special case: Alpha Centauri A and Alpha Centauri B <a class=\"anchor\" id=\"Special_case_intro\"></a>\n",
    "\n",
    "We choose to start by studying the $2$ body problem.  \n",
    "In classical mechanics, the two body problem consists of predict the motion of two massive objects.  \n",
    "The problem assumes that two objects interact only with each other, i.e., the only force that affects each object comes from the other, and all other objects are ignored.  \n",
    "\n",
    "The most important case of the classical two body problem is the gravitational case, which arises in astronomy to predict the orbits of objects such as satellites, planets or stars.  \n",
    "\n",
    "We are particularly interested in look independently the orbit of the Earth around the Sun followed by that of Mars.  "
   ],
   "cell_type": "markdown",
   "metadata": {}
  },
  {
   "source": [
    "#### Three body problem - More details <a class=\"anchor\" id=\"Three_body_problem_details\"></a>\n",
    "\n",
    "In physics and classical mechanics, the Three body problem consists of taking the initial positions and velocities of three bodies and solving for their mutual motion according to Newton’s laws of motion and Newton’s law of universal gravitation.  \n",
    "We focus here on the Earth, Mars and the Sun.  "
   ],
   "cell_type": "markdown",
   "metadata": {}
  },
  {
   "cell_type": "markdown",
   "metadata": {},
   "source": [
    "### Visualization <a class=\"anchor\" id=\"Visualization\"></a>"
   ]
  },
  {
   "source": [
    "The objective of the project was to create an animation putting in $3$D the $3$ body problem, we consider in our case the system formed by the Sun, the Earth and Mars. \n",
    "To answer this problem, we started by creating two $3$D visualizations: Earth and Sun then Mars and Sun.\n",
    "The solution of the two-body problem allowed us to understand the three-body problem."
   ],
   "cell_type": "markdown",
   "metadata": {}
  },
  {
   "source": [
    "#### Special case: Orbit Earth and Orbit Mars <a class=\"anchor\" id=\"Special_case_vis\"></a>"
   ],
   "cell_type": "markdown",
   "metadata": {}
  },
  {
   "source": [
    "Below the orbit of the Earth around the Sun."
   ],
   "cell_type": "markdown",
   "metadata": {}
  },
  {
   "source": [
    "![Earth orbit](gifs/Earth_orbit.gif)"
   ],
   "cell_type": "markdown",
   "metadata": {}
  },
  {
   "source": [
    "Below the orbit of Mars around the Sun."
   ],
   "cell_type": "markdown",
   "metadata": {}
  },
  {
   "source": [
    "![Mars orbit](gifs/Mars_orbit.gif)"
   ],
   "cell_type": "markdown",
   "metadata": {}
  },
  {
   "cell_type": "markdown",
   "metadata": {},
   "source": [
    "#### Three body problem<a class=\"anchor\" id=\"Three_body_problem_vis\"></a>"
   ]
  },
  {
   "source": [
    "Solving the differential equations of the Three Body Problem allowed us to create a $3$D animation of the evolution of the Earth and Mars around the Sun."
   ],
   "cell_type": "markdown",
   "metadata": {}
  },
  {
   "source": [
    "![Three body](gifs/Three_body.gif)"
   ],
   "cell_type": "markdown",
   "metadata": {}
  }
 ],
 "metadata": {
  "kernelspec": {
   "name": "python385jvsc74a57bd01e915f0a29dc84041eaeb02b7b1a21c440e37a87b61d44d5e84a515737dc82bc",
   "display_name": "Python 3.8.5 64-bit ('base': conda)"
  },
  "language_info": {
   "codemirror_mode": {
    "name": "ipython",
    "version": 3
   },
   "file_extension": ".py",
   "mimetype": "text/x-python",
   "name": "python",
   "nbconvert_exporter": "python",
   "pygments_lexer": "ipython3",
   "version": "3.8.5"
  },
  "toc": {
   "base_numbering": 1,
   "nav_menu": {},
   "number_sections": true,
   "sideBar": true,
   "skip_h1_title": false,
   "title_cell": "Table of Contents",
   "title_sidebar": "Contents",
   "toc_cell": false,
   "toc_position": {},
   "toc_section_display": true,
   "toc_window_display": false
  }
 },
 "nbformat": 4,
 "nbformat_minor": 4
}