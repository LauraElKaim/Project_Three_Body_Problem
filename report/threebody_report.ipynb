{
 "cells": [
  {
   "cell_type": "markdown",
   "metadata": {},
   "source": [
    "> Master 1 MIND & Biostatistik - 2021  \n",
    "\n",
    "> Authors:\n",
    "> - Touzani Amine (amine.touzani@etu.umontpellier.fr)  \n",
    "> - Niasse Gueladio (gueladio.niasse@etu.umontpellier.fr)  \n",
    "> - Fattouhy Mohamed (mohamed.fattouhy@etu.umontpellier.fr)  \n",
    "> - El Kaïm Laura (laura.el-kaim@etu.umontpellier.fr) \n",
    "\n",
    "--------------------------------------------------------"
   ]
  },
  {
   "cell_type": "markdown",
   "metadata": {},
   "source": [
    "### Table of Contents\n",
    "\n",
    "* [About Three Body Problem](#About_Three_Body_Problem)\n",
    "* [Mathematical resolutions](#Mathematical_resolutions)\n",
    "    * [Special case: Alpha Centauri A and Alpha Centauri B](#Special_case_EDO)\n",
    "    * [Three body problem - Differential equations](#Three_body_problem_EDO)\n",
    "* [Visualization](#Visualization)\n",
    "    * [Special case: Alpha Centauri A and Alpha Centauri B](#Special_case_vis)\n",
    "    * [Three body problem](#Three_body_problem_vis)\n",
    "* [Synthesis](Synthesis)"
   ]
  },
  {
   "cell_type": "markdown",
   "metadata": {},
   "source": [
    "### About Three Body Problem <a class=\"anchor\" id=\"About_Three_Body_Problem\"></a>\n",
    "\n",
    "`Threebody` is a `Python3` package which allows from a mathematical resolution, to trace the trajectories and the positions according to the time of various bodies around the Sun.  \n",
    "We focus here on Earth, Mars and Sun.  \n",
    "Also we want to create some graphics to visualize the positions of the planets in orbit around the sun as a function of time.  "
   ]
  },
  {
   "cell_type": "markdown",
   "metadata": {},
   "source": [
    "### Visualization <a class=\"anchor\" id=\"Visualization\"></a>"
   ]
  },
  {
   "cell_type": "code",
   "execution_count": 3,
   "metadata": {},
   "outputs": [
    {
     "output_type": "error",
     "ename": "SyntaxError",
     "evalue": "invalid syntax (<ipython-input-3-4ec6603fa962>, line 1)",
     "traceback": [
      "\u001b[1;36m  File \u001b[1;32m\"<ipython-input-3-4ec6603fa962>\"\u001b[1;36m, line \u001b[1;32m1\u001b[0m\n\u001b[1;33m    The objective of the project was to create an animation putting in 3D the 3 bodies problem, we consider in our case the system formed by the Sun, the Earth and Mars.\u001b[0m\n\u001b[1;37m        ^\u001b[0m\n\u001b[1;31mSyntaxError\u001b[0m\u001b[1;31m:\u001b[0m invalid syntax\n"
     ]
    }
   ],
   "source": [
    "The objective of the project was to create an animation putting in 3D the 3 bodies problem, we consider in our case the system formed by the Sun, the Earth and Mars. \n",
    "To answer this problem, we started by creating two 3D visualizations: Earth and Sun then Mars and Sun.\n",
    "The solution of the two-body problem allowed us to understand the three-body problem."
   ]
  },
  {
   "source": [
    "#### Special case: Orbit Earth and Orbit Mars <a class=\"anchor\" id=\"Special_case_vis\"></a>"
   ],
   "cell_type": "code",
   "metadata": {},
   "execution_count": null,
   "outputs": []
  },
  {
   "source": [
    "Below the orbit of the Earth around the Sun."
   ],
   "cell_type": "code",
   "metadata": {},
   "execution_count": null,
   "outputs": []
  },
  {
   "source": [
    "![Earth orbit](Earth_Orbit.gif)"
   ],
   "cell_type": "markdown",
   "metadata": {}
  },
  {
   "cell_type": "code",
   "execution_count": null,
   "metadata": {},
   "outputs": [],
   "source": [
    "Below the orbit of Mars around the Sun."
   ]
  },
  {
   "source": [
    "![Mars orbit](Mars_Orbit.gif)"
   ],
   "cell_type": "markdown",
   "metadata": {}
  },
  {
   "cell_type": "markdown",
   "metadata": {},
   "source": [
    "#### Three body problem<a class=\"anchor\" id=\"Three_body_problem_vis\"></a>"
   ]
  },
  {
   "source": [
    "### Synthesis <a class=\"anchor\" id=\"Synthesis\"></a>"
   ],
   "cell_type": "code",
   "metadata": {},
   "execution_count": null,
   "outputs": []
  },
  {
   "cell_type": "code",
   "execution_count": null,
   "metadata": {},
   "outputs": [],
   "source": [
    "Solving the differential equations of the three-body problem allowed us to create a 3D animation of the evolution of the Earth and Mars around the Sun."
   ]
  },
  {
   "source": [
    "![Three body](Three_body.gif)"
   ],
   "cell_type": "markdown",
   "metadata": {}
  }
 ],
 "metadata": {
  "kernelspec": {
   "name": "python385jvsc74a57bd01e915f0a29dc84041eaeb02b7b1a21c440e37a87b61d44d5e84a515737dc82bc",
   "display_name": "Python 3.8.5 64-bit ('base': conda)"
  },
  "language_info": {
   "codemirror_mode": {
    "name": "ipython",
    "version": 3
   },
   "file_extension": ".py",
   "mimetype": "text/x-python",
   "name": "python",
   "nbconvert_exporter": "python",
   "pygments_lexer": "ipython3",
   "version": "3.8.5"
  },
  "toc": {
   "base_numbering": 1,
   "nav_menu": {},
   "number_sections": true,
   "sideBar": true,
   "skip_h1_title": false,
   "title_cell": "Table of Contents",
   "title_sidebar": "Contents",
   "toc_cell": false,
   "toc_position": {},
   "toc_section_display": true,
   "toc_window_display": false
  }
 },
 "nbformat": 4,
 "nbformat_minor": 4
}