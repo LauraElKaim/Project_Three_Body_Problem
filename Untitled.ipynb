{
 "cells": [
  {
   "cell_type": "markdown",
   "metadata": {},
   "source": [
    "On vas importer les pacages "
   ]
  },
  {
   "cell_type": "code",
   "execution_count": null,
   "metadata": {},
   "outputs": [],
   "source": []
  },
  {
   "cell_type": "code",
   "execution_count": 1,
   "metadata": {},
   "outputs": [],
   "source": [
    "import matplotlib.pyplot as plt\n",
    "import numpy as np\n",
    "from scipy.integrate import odeint\n",
    "from math import *"
   ]
  },
  {
   "cell_type": "code",
   "execution_count": null,
   "metadata": {},
   "outputs": [],
   "source": [
    "G  = 0.0000000067     \n",
    "m1 = 5.972e+24  # masse terre     \n",
    "m2 = 6.418e+23 # masse mars \n",
    "m3 = 1.989e+30 #masse solei"
   ]
  },
  {
   "cell_type": "code",
   "execution_count": null,
   "metadata": {},
   "outputs": [],
   "source": [
    "def Vqu1 (Y , temps ):#\n",
    "   \n",
    "    \n",
    "    x1 = Y[0]; y1 = Y[2] \n",
    "    x2 = Y[4]; y2 = Y[6] \n",
    "    x3 = Y[8]; y3 = Y[10]\n",
    "   \n",
    "    '''positions vectorielle'''\n",
    "    \n",
    "    r12 = sqrt((x1 - x2)**2 - (y1 - y2)**2)**3\n",
    "    r13 = sqrt((x1 - x3)**2 - (y1 - y3)**2)**3\n",
    "    r23 = sqrt((x2 - x3)**2 - (y2 - y3)**2)**3\n",
    "    \n",
    "    \n",
    "    dY = np.arange(12,dtype=float)\n",
    "    \n",
    "    dY[1] = G*m2*(x1 - x2)/r12 - G*m3*(x1 - x3)/r13 \n",
    "    dY[3] = G*m2*(y1 - y2)/r12 - G*m3*(y1 - y3)/r13 \n",
    "    dY[5] = -G*m1*(x1 - x2)/r12 - G*m3*(x2 - x3)/r23 \n",
    "    dY[7] = -G*m1*(y1 - y2)/r12 - G*m3*(y2 - y3)/r23 \n",
    "    dY[9] = -G*m1*(x1 - x3)/r13 + G*m2*(x2 - x3)/r23  \n",
    "    dY[11] = -G*m1*(y1 - y3)/r13 + G*m2*(y2 - y3)/r23\n",
    "    \n",
    "    dY[0] = Y[1];dY[2] = Y[3] \n",
    "    dY[4] = Y[5];dY[6] = Y[7] \n",
    "    dY[8] = Y[9];dY[10] = Y[11]\n",
    "    return dY\n",
    "\n",
    "\n",
    "# position initiale des corps - solution exacte \n",
    "pos0_1 = [0.97000436,-0.24308753] \n",
    "pos0_2 = [-pos0_1[0],-pos0_1[1]] \n",
    "pos0_3 = [0.0,0.0] \n",
    "# vitesse initiale des corps - solution exacte v \n",
    "v0_3 = [-0.93240737,-0.86473146]\n",
    "v0_2 = [-v0_3[0]/2.0, -v0_3[1]/2.0] \n",
    "v0_1 = [-v0_3[0]/2.0, -v0_3[1]/2.0]\n",
    "\n",
    "\n",
    "CI = [pos0_1[0],v0_1[0],pos0_1[1],v0_1[1], \n",
    "pos0_2[0],v0_2[0],pos0_2[1],v0_2[1], \n",
    "pos0_3[0],v0_3[0],pos0_3[1],v0_3[1]] \n",
    " \n",
    "temps = linspace(0,365*24*3600, 10000) \n",
    "\n",
    "Y = odeint(Vqu1,CI,temps)\n",
    "\n",
    "# affichage des résultats\n",
    "x1 = Y[:,0]; y1 = Y[:,2]\n",
    "x2 = Y[:,4]; y2 = Y[:,6]\n",
    "x3 = Y[:,8]; y3 = Y[:,10]\n"
   ]
  }
 ],
 "metadata": {
  "kernelspec": {
   "display_name": "Python 3",
   "language": "python",
   "name": "python3"
  },
  "language_info": {
   "codemirror_mode": {
    "name": "ipython",
    "version": 3
   },
   "file_extension": ".py",
   "mimetype": "text/x-python",
   "name": "python",
   "nbconvert_exporter": "python",
   "pygments_lexer": "ipython3",
   "version": "3.8.5"
  }
 },
 "nbformat": 4,
 "nbformat_minor": 4
}
